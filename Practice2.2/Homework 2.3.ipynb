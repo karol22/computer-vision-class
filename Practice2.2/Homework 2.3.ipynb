{
 "cells": [
  {
   "cell_type": "markdown",
   "metadata": {},
   "source": [
    "Karol Gutiérrez\n",
    "A01024536"
   ]
  },
  {
   "cell_type": "markdown",
   "metadata": {},
   "source": [
    "# What are active contour algorithms?\n",
    "\n"
   ]
  },
  {
   "cell_type": "markdown",
   "metadata": {},
   "source": [
    "Arithmetic difference  between the original function $f$ and an anti-extensive operator $\\psi$ :\n",
    "$$\n",
    "f - \\psi(f)\n",
    "$$ \n",
    "\n"
   ]
  },
  {
   "cell_type": "markdown",
   "metadata": {},
   "source": [
    "An operator $\\phi$ is said to be *extensive* iff:\n",
    "\n",
    "$$\n",
    "f < \\phi(f), \\forall f\n",
    "$$\n",
    "\n",
    "By duality, $\\psi$ is said to be *anti-extensive* iff:\n",
    "\n",
    "$$\n",
    "\\psi(f) < f, \\forall f\n",
    "$$"
   ]
  },
  {
   "cell_type": "markdown",
   "metadata": {},
   "source": [
    "# How does the snake active contour algorithm work?"
   ]
  },
  {
   "cell_type": "markdown",
   "metadata": {},
   "source": [
    "It uses global energy minimization guided by external constraint forces and influenced by image forces that pull it toward features, such as lines and edges"
   ]
  },
  {
   "cell_type": "markdown",
   "metadata": {},
   "source": [
    "Here we have the segmenting result of a femur image. It shows the outer surface (red), the surface between compact bone and spongy bone (green) and the surface of the bone marrow (blue).\n"
   ]
  },
  {
   "cell_type": "markdown",
   "metadata": {},
   "source": [
    "![Femur image](femur.png)"
   ]
  },
  {
   "cell_type": "markdown",
   "metadata": {},
   "source": [
    "# How does the mean shift algorithm work?"
   ]
  },
  {
   "cell_type": "markdown",
   "metadata": {},
   "source": [
    "We can divide image segmentation techniques into two types:\n",
    "\n",
    "**1. Semantic segmentation**: Every pixel belongs to a particular class. Also, all the pixels belonging to a particular class are represented by the same color\n",
    "\n",
    "**2. Instance segmentation**: Different objects of the same class have different colors"
   ]
  },
  {
   "cell_type": "markdown",
   "metadata": {},
   "source": [
    "![Segmentation types](types_segmentation.png)"
   ]
  },
  {
   "cell_type": "markdown",
   "metadata": {},
   "source": [
    "# How does the watershed algorithm work?"
   ]
  },
  {
   "cell_type": "markdown",
   "metadata": {},
   "source": [
    "* **Thresholding Method:** Based on the histogram peaks of the image to find particular threshold values.\n",
    "\n",
    "* **Edge Based Method:** Based on discontinuity detection.\n",
    "\n",
    "* **Region Based Method:** Based on partitioning image into homogeneous regions.\n",
    "\n",
    "* **Clustering Method:** Based on division into homogeneous clusters.\n",
    "\n",
    "* **Watershed Method:** Based on topological interpretation.\n",
    "\n",
    "* **PDE Based Method:** Based on the working of differential equations.\n",
    "\n",
    "* **ANN Based Method:** Based on the simulation of learning process for decision making.\n"
   ]
  },
  {
   "cell_type": "markdown",
   "metadata": {},
   "source": [
    "# References"
   ]
  },
  {
   "cell_type": "markdown",
   "metadata": {},
   "source": [
    "https://www.intechopen.com/books/medical-and-biological-image-analysis/active-contour-based-segmentation-techniques-for-medical-image-analysis\n",
    "https://web.njit.edu/cs/gssd/PDFs/ZhangK.pdf\n"
   ]
  }
 ],
 "metadata": {
  "kernelspec": {
   "display_name": "Python 3",
   "language": "python",
   "name": "python3"
  },
  "language_info": {
   "codemirror_mode": {
    "name": "ipython",
    "version": 3
   },
   "file_extension": ".py",
   "mimetype": "text/x-python",
   "name": "python",
   "nbconvert_exporter": "python",
   "pygments_lexer": "ipython3",
   "version": "3.8.5"
  }
 },
 "nbformat": 4,
 "nbformat_minor": 4
}
